{
 "cells": [
  {
   "cell_type": "markdown",
   "metadata": {},
   "source": [
    "# 干货练习：\n",
    "    求一个数的平方根\n",
    "    要求：不可以使用MATH库\n",
    "    提示：要用到循环逻辑与判断逻辑\n",
    "        计算机最擅长的是快速重复计算与可靠的存储\n",
    " "
   ]
  },
  {
   "cell_type": "markdown",
   "metadata": {},
   "source": [
    "暴力破解=穷举法\n",
    "\n",
    "\n",
    "将答案逐一进行试验直到遇到真的答案\n",
    "\n",
    "10 = 0  1 2 3 10 \n",
    "\n",
    "10 = 0  0.0001  0.0002 0.0003 \n",
    "\n",
    "近似程度=精度\n",
    "\n",
    "1.414*1.414 ==2\n",
    "\n",
    "2-1.414*1.4141<0.001\n",
    "\n",
    "2-1.414*1.4141<0.00000001\n",
    "\n",
    "步长选择太大 且精度较小 出现永远找不到答案\n",
    "步长跳过我们的答案区间\n",
    "\n",
    "     2-0.001< 測試  <2+0.001\n",
    "\n",
    "0.0001*0.0001 0.0002*0.0002 0.0003 \n",
    "\n",
    "\n",
    "就是搜索答案空间 ，进行试探，查看是否正确 不正确继续搜索答案空间\n",
    "\n"
   ]
  },
  {
   "cell_type": "code",
   "execution_count": 4,
   "metadata": {},
   "outputs": [
    {
     "name": "stdout",
     "output_type": "stream",
     "text": [
      "请输入一个数：2\n",
      "1.4141800000007971\n"
     ]
    }
   ],
   "source": [
    "##需要存储哪些内容\n",
    "##需要用到哪些逻辑 顺序逻辑  判断逻辑  循环逻辑\n",
    "num = float(input(\"请输入一个数：\"))##  0 0.1 0.2 0.3 ....  10 100 \n",
    "#\n",
    "if num<0:##\n",
    "    print(\"负数没有平方根！\")\n",
    "else: \n",
    "    buchang=0.00001\n",
    "    jingdu=0.0001\n",
    "    ceshi=0\n",
    "    # 重复的做一件事 一定会用到循环\n",
    "    # while True:  ##哨兵程序\n",
    "       # if 條件：\n",
    "         #   break\n",
    "    while True:\n",
    "        if abs(ceshi**2-num)<jingdu:##找到答案\n",
    "            break\n",
    "        ceshi=ceshi+buchang\n",
    "        if ceshi>num:##跳过答案\n",
    "            break\n",
    "print(ceshi)   \n",
    "        \n",
    "    "
   ]
  },
  {
   "cell_type": "markdown",
   "metadata": {},
   "source": [
    "总结：1.暴力破解 \n",
    "只要你直到你的答案的范围 那么我们就可以搜索并且逐一的进行测试 来找到答案\n",
    "\n",
    "2.正面解决这个问题 你就可以通过反面去暴力破解\n",
    "我们知道平方 怎么求 ，平方根\n",
    "怎么求指数 ，对数\n",
    "3.二分搜索？"
   ]
  }
 ],
 "metadata": {
  "kernelspec": {
   "display_name": "Python 3",
   "language": "python",
   "name": "python3"
  },
  "language_info": {
   "codemirror_mode": {
    "name": "ipython",
    "version": 3
   },
   "file_extension": ".py",
   "mimetype": "text/x-python",
   "name": "python",
   "nbconvert_exporter": "python",
   "pygments_lexer": "ipython3",
   "version": "3.7.7"
  }
 },
 "nbformat": 4,
 "nbformat_minor": 4
}
